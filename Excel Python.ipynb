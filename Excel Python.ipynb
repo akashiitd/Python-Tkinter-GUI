{
 "cells": [
  {
   "cell_type": "code",
   "execution_count": 20,
   "metadata": {},
   "outputs": [
    {
     "name": "stdout",
     "output_type": "stream",
     "text": [
      "yes\n"
     ]
    },
    {
     "ename": "com_error",
     "evalue": "(-2147352567, 'Exception occurred.', (0, 'Microsoft Excel', \"Sorry, we couldn't find D:\\\\Users\\\\703183779\\\\PERSONAL (Autosaved).xlsb. Is it possible it was moved, renamed or deleted?\", 'xlmain11.chm', 0, -2146827284), None)",
     "output_type": "error",
     "traceback": [
      "\u001b[1;31m---------------------------------------------------------------------------\u001b[0m",
      "\u001b[1;31mcom_error\u001b[0m                                 Traceback (most recent call last)",
      "\u001b[1;32m<ipython-input-20-9512dd01c5de>\u001b[0m in \u001b[0;36m<module>\u001b[1;34m\u001b[0m\n\u001b[0;32m      5\u001b[0m     \u001b[0mprint\u001b[0m\u001b[1;33m(\u001b[0m\u001b[1;34m\"yes\"\u001b[0m\u001b[1;33m)\u001b[0m\u001b[1;33m\u001b[0m\u001b[1;33m\u001b[0m\u001b[0m\n\u001b[0;32m      6\u001b[0m     \u001b[0mxl\u001b[0m\u001b[1;33m=\u001b[0m\u001b[0mwin32com\u001b[0m\u001b[1;33m.\u001b[0m\u001b[0mclient\u001b[0m\u001b[1;33m.\u001b[0m\u001b[0mDispatch\u001b[0m\u001b[1;33m(\u001b[0m\u001b[1;34m\"Excel.Application\"\u001b[0m\u001b[1;33m)\u001b[0m\u001b[1;33m\u001b[0m\u001b[1;33m\u001b[0m\u001b[0m\n\u001b[1;32m----> 7\u001b[1;33m     \u001b[0mxl\u001b[0m\u001b[1;33m.\u001b[0m\u001b[0mWorkbooks\u001b[0m\u001b[1;33m.\u001b[0m\u001b[0mOpen\u001b[0m\u001b[1;33m(\u001b[0m\u001b[0mos\u001b[0m\u001b[1;33m.\u001b[0m\u001b[0mpath\u001b[0m\u001b[1;33m.\u001b[0m\u001b[0mabspath\u001b[0m\u001b[1;33m(\u001b[0m\u001b[1;34m\"PERSONAL (Autosaved).xlsb\"\u001b[0m\u001b[1;33m)\u001b[0m\u001b[1;33m,\u001b[0m \u001b[0mReadOnly\u001b[0m\u001b[1;33m=\u001b[0m\u001b[1;36m1\u001b[0m\u001b[1;33m)\u001b[0m\u001b[1;33m\u001b[0m\u001b[1;33m\u001b[0m\u001b[0m\n\u001b[0m\u001b[0;32m      8\u001b[0m     \u001b[0mxl\u001b[0m\u001b[1;33m.\u001b[0m\u001b[0mApplication\u001b[0m\u001b[1;33m.\u001b[0m\u001b[0mRun\u001b[0m\u001b[1;33m(\u001b[0m\u001b[1;34m\"PERSONAL (Autosaved).xlsb!Module7.callmac\"\u001b[0m\u001b[1;33m)\u001b[0m\u001b[1;33m\u001b[0m\u001b[1;33m\u001b[0m\u001b[0m\n\u001b[0;32m      9\u001b[0m \u001b[1;31m##    xl.Application.Save() # if you want to save then uncomment this line and change delete the \", ReadOnly=1\" part from the open function.\u001b[0m\u001b[1;33m\u001b[0m\u001b[1;33m\u001b[0m\u001b[1;33m\u001b[0m\u001b[0m\n",
      "\u001b[1;32mC:\\ProgramData\\Anaconda3\\lib\\site-packages\\win32com\\client\\dynamic.py\u001b[0m in \u001b[0;36mOpen\u001b[1;34m(self, Filename, UpdateLinks, ReadOnly, Format, Password, WriteResPassword, IgnoreReadOnlyRecommended, Origin, Delimiter, Editable, Notify, Converter, AddToMru, Local, CorruptLoad)\u001b[0m\n",
      "\u001b[1;31mcom_error\u001b[0m: (-2147352567, 'Exception occurred.', (0, 'Microsoft Excel', \"Sorry, we couldn't find D:\\\\Users\\\\703183779\\\\PERSONAL (Autosaved).xlsb. Is it possible it was moved, renamed or deleted?\", 'xlmain11.chm', 0, -2146827284), None)"
     ]
    }
   ],
   "source": [
    "import os, os.path\n",
    "import win32com.client\n",
    "#\"D:\\Users\\703183779\\OneDrive - Genpact\\PERSONAL (Autosaved).xlsb\"\n",
    "if os.path.exists(r\"D:\\Users\\703183779\\OneDrive - Genpact\\PERSONAL (Autosaved).xlsb\"):\n",
    "    print(\"yes\")\n",
    "    xl=win32com.client.Dispatch(\"Excel.Application\")\n",
    "    xl.Workbooks.Open(os.path.abspath(\"PERSONAL (Autosaved).xlsb\"), ReadOnly=1)\n",
    "    xl.Application.Run(\"PERSONAL (Autosaved).xlsb!Module7.callmac\")\n",
    "##    xl.Application.Save() # if you want to save then uncomment this line and change delete the \", ReadOnly=1\" part from the open function.\n",
    "    xl.Application.Quit() # Comment this out if your excel script closes\n",
    "    del xl"
   ]
  },
  {
   "cell_type": "code",
   "execution_count": 13,
   "metadata": {},
   "outputs": [
    {
     "name": "stdout",
     "output_type": "stream",
     "text": [
      "yes\n"
     ]
    },
    {
     "ename": "com_error",
     "evalue": "(-2147352567, 'Exception occurred.', (0, 'Microsoft Excel', \"Cannot run the macro 'High Dollar.xlsm!Module5.pyt'. The macro may not be available in this workbook or all macros may be disabled.\", 'xlmain11.chm', 0, -2146827284), None)",
     "output_type": "error",
     "traceback": [
      "\u001b[1;31m---------------------------------------------------------------------------\u001b[0m",
      "\u001b[1;31mcom_error\u001b[0m                                 Traceback (most recent call last)",
      "\u001b[1;32m<ipython-input-13-f65428500b36>\u001b[0m in \u001b[0;36m<module>\u001b[1;34m\u001b[0m\n\u001b[0;32m      8\u001b[0m     \u001b[0mxl\u001b[0m\u001b[1;33m=\u001b[0m\u001b[0mwin32com\u001b[0m\u001b[1;33m.\u001b[0m\u001b[0mclient\u001b[0m\u001b[1;33m.\u001b[0m\u001b[0mDispatch\u001b[0m\u001b[1;33m(\u001b[0m\u001b[1;34m\"Excel.Application\"\u001b[0m\u001b[1;33m)\u001b[0m\u001b[1;33m\u001b[0m\u001b[1;33m\u001b[0m\u001b[0m\n\u001b[0;32m      9\u001b[0m     \u001b[1;31m#xl.Workbooks.Open(os.path.abspath(r\"D:\\Users\\703183779\\OneDrive - Genpact\\High Dollar.xlsm\"), ReadOnly=1)\u001b[0m\u001b[1;33m\u001b[0m\u001b[1;33m\u001b[0m\u001b[1;33m\u001b[0m\u001b[0m\n\u001b[1;32m---> 10\u001b[1;33m     \u001b[0mxl\u001b[0m\u001b[1;33m.\u001b[0m\u001b[0mApplication\u001b[0m\u001b[1;33m.\u001b[0m\u001b[0mRun\u001b[0m\u001b[1;33m(\u001b[0m\u001b[1;34m\"High Dollar.xlsm!Module5.pyt\"\u001b[0m\u001b[1;33m)\u001b[0m\u001b[1;33m\u001b[0m\u001b[1;33m\u001b[0m\u001b[0m\n\u001b[0m\u001b[0;32m     11\u001b[0m \u001b[1;31m##    xl.Application.Save() # if you want to save then uncomment this line and change delete the \", ReadOnly=1\" part from the open function.\u001b[0m\u001b[1;33m\u001b[0m\u001b[1;33m\u001b[0m\u001b[1;33m\u001b[0m\u001b[0m\n\u001b[0;32m     12\u001b[0m     \u001b[0mxl\u001b[0m\u001b[1;33m.\u001b[0m\u001b[0mApplication\u001b[0m\u001b[1;33m.\u001b[0m\u001b[0mQuit\u001b[0m\u001b[1;33m(\u001b[0m\u001b[1;33m)\u001b[0m \u001b[1;31m# Comment this out if your excel script closes\u001b[0m\u001b[1;33m\u001b[0m\u001b[1;33m\u001b[0m\u001b[0m\n",
      "\u001b[1;32mC:\\ProgramData\\Anaconda3\\lib\\site-packages\\win32com\\client\\dynamic.py\u001b[0m in \u001b[0;36mRun\u001b[1;34m(self, Macro, Arg1, Arg2, Arg3, Arg4, Arg5, Arg6, Arg7, Arg8, Arg9, Arg10, Arg11, Arg12, Arg13, Arg14, Arg15, Arg16, Arg17, Arg18, Arg19, Arg20, Arg21, Arg22, Arg23, Arg24, Arg25, Arg26, Arg27, Arg28, Arg29, Arg30)\u001b[0m\n",
      "\u001b[1;32mC:\\ProgramData\\Anaconda3\\lib\\site-packages\\win32com\\client\\dynamic.py\u001b[0m in \u001b[0;36m_ApplyTypes_\u001b[1;34m(self, dispid, wFlags, retType, argTypes, user, resultCLSID, *args)\u001b[0m\n\u001b[0;32m    285\u001b[0m \u001b[1;33m\u001b[0m\u001b[0m\n\u001b[0;32m    286\u001b[0m         \u001b[1;32mdef\u001b[0m \u001b[0m_ApplyTypes_\u001b[0m\u001b[1;33m(\u001b[0m\u001b[0mself\u001b[0m\u001b[1;33m,\u001b[0m \u001b[0mdispid\u001b[0m\u001b[1;33m,\u001b[0m \u001b[0mwFlags\u001b[0m\u001b[1;33m,\u001b[0m \u001b[0mretType\u001b[0m\u001b[1;33m,\u001b[0m \u001b[0margTypes\u001b[0m\u001b[1;33m,\u001b[0m \u001b[0muser\u001b[0m\u001b[1;33m,\u001b[0m \u001b[0mresultCLSID\u001b[0m\u001b[1;33m,\u001b[0m \u001b[1;33m*\u001b[0m\u001b[0margs\u001b[0m\u001b[1;33m)\u001b[0m\u001b[1;33m:\u001b[0m\u001b[1;33m\u001b[0m\u001b[1;33m\u001b[0m\u001b[0m\n\u001b[1;32m--> 287\u001b[1;33m                 \u001b[0mresult\u001b[0m \u001b[1;33m=\u001b[0m \u001b[0mself\u001b[0m\u001b[1;33m.\u001b[0m\u001b[0m_oleobj_\u001b[0m\u001b[1;33m.\u001b[0m\u001b[0mInvokeTypes\u001b[0m\u001b[1;33m(\u001b[0m\u001b[1;33m*\u001b[0m\u001b[1;33m(\u001b[0m\u001b[0mdispid\u001b[0m\u001b[1;33m,\u001b[0m \u001b[0mLCID\u001b[0m\u001b[1;33m,\u001b[0m \u001b[0mwFlags\u001b[0m\u001b[1;33m,\u001b[0m \u001b[0mretType\u001b[0m\u001b[1;33m,\u001b[0m \u001b[0margTypes\u001b[0m\u001b[1;33m)\u001b[0m \u001b[1;33m+\u001b[0m \u001b[0margs\u001b[0m\u001b[1;33m)\u001b[0m\u001b[1;33m\u001b[0m\u001b[1;33m\u001b[0m\u001b[0m\n\u001b[0m\u001b[0;32m    288\u001b[0m                 \u001b[1;32mreturn\u001b[0m \u001b[0mself\u001b[0m\u001b[1;33m.\u001b[0m\u001b[0m_get_good_object_\u001b[0m\u001b[1;33m(\u001b[0m\u001b[0mresult\u001b[0m\u001b[1;33m,\u001b[0m \u001b[0muser\u001b[0m\u001b[1;33m,\u001b[0m \u001b[0mresultCLSID\u001b[0m\u001b[1;33m)\u001b[0m\u001b[1;33m\u001b[0m\u001b[1;33m\u001b[0m\u001b[0m\n\u001b[0;32m    289\u001b[0m \u001b[1;33m\u001b[0m\u001b[0m\n",
      "\u001b[1;31mcom_error\u001b[0m: (-2147352567, 'Exception occurred.', (0, 'Microsoft Excel', \"Cannot run the macro 'High Dollar.xlsm!Module5.pyt'. The macro may not be available in this workbook or all macros may be disabled.\", 'xlmain11.chm', 0, -2146827284), None)"
     ]
    }
   ],
   "source": [
    "#High Dollar.xlsm\n",
    "\n",
    "import os, os.path\n",
    "import win32com.client\n",
    "#\"D:\\Users\\703183779\\OneDrive - Genpact\\PERSONAL (Autosaved).xlsb\"\n",
    "if os.path.exists(r\"D:\\Users\\703183779\\OneDrive - Genpact\\PERSONAL (Autosaved).xlsb\"):\n",
    "    print(\"yes\")\n",
    "    xl=win32com.client.Dispatch(\"Excel.Application\")\n",
    "    #xl.Workbooks.Open(os.path.abspath(r\"D:\\Users\\703183779\\OneDrive - Genpact\\High Dollar.xlsm\"), ReadOnly=1)\n",
    "    xl.Application.Run(\"High Dollar.xlsm!Module5.pyt\")\n",
    "##    xl.Application.Save() # if you want to save then uncomment this line and change delete the \", ReadOnly=1\" part from the open function.\n",
    "    xl.Application.Quit() # Comment this out if your excel script closes\n",
    "    del xl\n"
   ]
  },
  {
   "cell_type": "code",
   "execution_count": 3,
   "metadata": {},
   "outputs": [
    {
     "name": "stdout",
     "output_type": "stream",
     "text": [
      "['D:\\\\Users\\\\703183779', 'C:\\\\ProgramData\\\\Anaconda3\\\\python37.zip', 'C:\\\\ProgramData\\\\Anaconda3\\\\DLLs', 'C:\\\\ProgramData\\\\Anaconda3\\\\lib', 'C:\\\\ProgramData\\\\Anaconda3', '', 'C:\\\\ProgramData\\\\Anaconda3\\\\lib\\\\site-packages', 'C:\\\\ProgramData\\\\Anaconda3\\\\lib\\\\site-packages\\\\win32', 'C:\\\\ProgramData\\\\Anaconda3\\\\lib\\\\site-packages\\\\win32\\\\lib', 'C:\\\\ProgramData\\\\Anaconda3\\\\lib\\\\site-packages\\\\Pythonwin', 'C:\\\\ProgramData\\\\Anaconda3\\\\lib\\\\site-packages\\\\IPython\\\\extensions', 'D:\\\\Users\\\\703183779\\\\.ipython', 'D:\\\\Users\\\\703183779\\\\python.xlsm']\n"
     ]
    }
   ],
   "source": [
    "import sys\n",
    "sys.path\n",
    "sys.path.append(r\"D:\\Users\\703183779\\python.xlsm\")\n",
    "print(sys.path)"
   ]
  },
  {
   "cell_type": "code",
   "execution_count": 5,
   "metadata": {},
   "outputs": [
    {
     "name": "stdout",
     "output_type": "stream",
     "text": [
      "yes\n"
     ]
    },
    {
     "ename": "com_error",
     "evalue": "(-2147352567, 'Exception occurred.', (0, 'Microsoft Excel', \"Cannot run the macro 'python.xlsm!Module1.callmac'. The macro may not be available in this workbook or all macros may be disabled.\", 'xlmain11.chm', 0, -2146827284), None)",
     "output_type": "error",
     "traceback": [
      "\u001b[1;31m---------------------------------------------------------------------------\u001b[0m",
      "\u001b[1;31mcom_error\u001b[0m                                 Traceback (most recent call last)",
      "\u001b[1;32m<ipython-input-5-053bc5044d64>\u001b[0m in \u001b[0;36m<module>\u001b[1;34m\u001b[0m\n\u001b[0;32m      6\u001b[0m     \u001b[0mxl\u001b[0m\u001b[1;33m=\u001b[0m\u001b[0mwin32com\u001b[0m\u001b[1;33m.\u001b[0m\u001b[0mclient\u001b[0m\u001b[1;33m.\u001b[0m\u001b[0mDispatch\u001b[0m\u001b[1;33m(\u001b[0m\u001b[1;34m\"Excel.Application\"\u001b[0m\u001b[1;33m)\u001b[0m\u001b[1;33m\u001b[0m\u001b[1;33m\u001b[0m\u001b[0m\n\u001b[0;32m      7\u001b[0m     \u001b[1;31m#xl.Workbooks.Open(os.path.abspath(r\"D:\\Users\\703183779\\OneDrive - Genpact\\High Dollar.xlsm\"), ReadOnly=1)\u001b[0m\u001b[1;33m\u001b[0m\u001b[1;33m\u001b[0m\u001b[1;33m\u001b[0m\u001b[0m\n\u001b[1;32m----> 8\u001b[1;33m     \u001b[0mxl\u001b[0m\u001b[1;33m.\u001b[0m\u001b[0mApplication\u001b[0m\u001b[1;33m.\u001b[0m\u001b[0mRun\u001b[0m\u001b[1;33m(\u001b[0m\u001b[1;34m\"python.xlsm!Module1.callmac\"\u001b[0m\u001b[1;33m)\u001b[0m\u001b[1;33m\u001b[0m\u001b[1;33m\u001b[0m\u001b[0m\n\u001b[0m\u001b[0;32m      9\u001b[0m \u001b[1;31m##    xl.Application.Save() # if you want to save then uncomment this line and change delete the \", ReadOnly=1\" part from the open function.\u001b[0m\u001b[1;33m\u001b[0m\u001b[1;33m\u001b[0m\u001b[1;33m\u001b[0m\u001b[0m\n\u001b[0;32m     10\u001b[0m \u001b[1;33m\u001b[0m\u001b[0m\n",
      "\u001b[1;32mC:\\ProgramData\\Anaconda3\\lib\\site-packages\\win32com\\client\\dynamic.py\u001b[0m in \u001b[0;36mRun\u001b[1;34m(self, Macro, Arg1, Arg2, Arg3, Arg4, Arg5, Arg6, Arg7, Arg8, Arg9, Arg10, Arg11, Arg12, Arg13, Arg14, Arg15, Arg16, Arg17, Arg18, Arg19, Arg20, Arg21, Arg22, Arg23, Arg24, Arg25, Arg26, Arg27, Arg28, Arg29, Arg30)\u001b[0m\n",
      "\u001b[1;32mC:\\ProgramData\\Anaconda3\\lib\\site-packages\\win32com\\client\\dynamic.py\u001b[0m in \u001b[0;36m_ApplyTypes_\u001b[1;34m(self, dispid, wFlags, retType, argTypes, user, resultCLSID, *args)\u001b[0m\n\u001b[0;32m    285\u001b[0m \u001b[1;33m\u001b[0m\u001b[0m\n\u001b[0;32m    286\u001b[0m         \u001b[1;32mdef\u001b[0m \u001b[0m_ApplyTypes_\u001b[0m\u001b[1;33m(\u001b[0m\u001b[0mself\u001b[0m\u001b[1;33m,\u001b[0m \u001b[0mdispid\u001b[0m\u001b[1;33m,\u001b[0m \u001b[0mwFlags\u001b[0m\u001b[1;33m,\u001b[0m \u001b[0mretType\u001b[0m\u001b[1;33m,\u001b[0m \u001b[0margTypes\u001b[0m\u001b[1;33m,\u001b[0m \u001b[0muser\u001b[0m\u001b[1;33m,\u001b[0m \u001b[0mresultCLSID\u001b[0m\u001b[1;33m,\u001b[0m \u001b[1;33m*\u001b[0m\u001b[0margs\u001b[0m\u001b[1;33m)\u001b[0m\u001b[1;33m:\u001b[0m\u001b[1;33m\u001b[0m\u001b[1;33m\u001b[0m\u001b[0m\n\u001b[1;32m--> 287\u001b[1;33m                 \u001b[0mresult\u001b[0m \u001b[1;33m=\u001b[0m \u001b[0mself\u001b[0m\u001b[1;33m.\u001b[0m\u001b[0m_oleobj_\u001b[0m\u001b[1;33m.\u001b[0m\u001b[0mInvokeTypes\u001b[0m\u001b[1;33m(\u001b[0m\u001b[1;33m*\u001b[0m\u001b[1;33m(\u001b[0m\u001b[0mdispid\u001b[0m\u001b[1;33m,\u001b[0m \u001b[0mLCID\u001b[0m\u001b[1;33m,\u001b[0m \u001b[0mwFlags\u001b[0m\u001b[1;33m,\u001b[0m \u001b[0mretType\u001b[0m\u001b[1;33m,\u001b[0m \u001b[0margTypes\u001b[0m\u001b[1;33m)\u001b[0m \u001b[1;33m+\u001b[0m \u001b[0margs\u001b[0m\u001b[1;33m)\u001b[0m\u001b[1;33m\u001b[0m\u001b[1;33m\u001b[0m\u001b[0m\n\u001b[0m\u001b[0;32m    288\u001b[0m                 \u001b[1;32mreturn\u001b[0m \u001b[0mself\u001b[0m\u001b[1;33m.\u001b[0m\u001b[0m_get_good_object_\u001b[0m\u001b[1;33m(\u001b[0m\u001b[0mresult\u001b[0m\u001b[1;33m,\u001b[0m \u001b[0muser\u001b[0m\u001b[1;33m,\u001b[0m \u001b[0mresultCLSID\u001b[0m\u001b[1;33m)\u001b[0m\u001b[1;33m\u001b[0m\u001b[1;33m\u001b[0m\u001b[0m\n\u001b[0;32m    289\u001b[0m \u001b[1;33m\u001b[0m\u001b[0m\n",
      "\u001b[1;31mcom_error\u001b[0m: (-2147352567, 'Exception occurred.', (0, 'Microsoft Excel', \"Cannot run the macro 'python.xlsm!Module1.callmac'. The macro may not be available in this workbook or all macros may be disabled.\", 'xlmain11.chm', 0, -2146827284), None)"
     ]
    }
   ],
   "source": [
    "import os, os.path\n",
    "import win32com.client\n",
    "#\"D:\\Users\\703183779\\OneDrive - Genpact\\PERSONAL (Autosaved).xlsb\"\n",
    "if os.path.exists(r\"D:\\Users\\703183779\\python.xlsm\"):\n",
    "    print(\"yes\")\n",
    "    xl=win32com.client.Dispatch(\"Excel.Application\")\n",
    "    #xl.Workbooks.Open(os.path.abspath(r\"D:\\Users\\703183779\\OneDrive - Genpact\\High Dollar.xlsm\"), ReadOnly=1)\n",
    "    xl.Application.Run(\"python.xlsm!Module1.callmac\")\n",
    "##    xl.Application.Save() # if you want to save then uncomment this line and change delete the \", ReadOnly=1\" part from the open function.\n",
    "    \n",
    "    #xl.Application.Quit()\n",
    "    #xl.Application.Quit() # Comment this out if your excel script closes\n",
    "   \n",
    "    \n",
    "    \n",
    "    print(\"yes\")"
   ]
  },
  {
   "cell_type": "code",
   "execution_count": 27,
   "metadata": {},
   "outputs": [
    {
     "data": {
      "text/plain": [
       "['CDispatch',\n",
       " 'CLSIDToClass',\n",
       " 'CastTo',\n",
       " 'CoClassBaseClass',\n",
       " 'Constants',\n",
       " 'Dispatch',\n",
       " 'DispatchBaseClass',\n",
       " 'DispatchEx',\n",
       " 'DispatchWithEvents',\n",
       " 'EventsProxy',\n",
       " 'GetActiveObject',\n",
       " 'GetObject',\n",
       " 'Moniker',\n",
       " 'Record',\n",
       " 'VARIANT',\n",
       " 'WithEvents',\n",
       " '_PyIDispatchType',\n",
       " '__WrapDispatch',\n",
       " '__builtins__',\n",
       " '__cached__',\n",
       " '__doc__',\n",
       " '__file__',\n",
       " '__loader__',\n",
       " '__name__',\n",
       " '__package__',\n",
       " '__path__',\n",
       " '__spec__',\n",
       " '_event_setattr_',\n",
       " '_get_good_object_',\n",
       " '_get_good_single_object_',\n",
       " 'build',\n",
       " 'constants',\n",
       " 'dynamic',\n",
       " 'gencache',\n",
       " 'getevents',\n",
       " 'pythoncom',\n",
       " 'pywintypes',\n",
       " 'sys']"
      ]
     },
     "execution_count": 27,
     "metadata": {},
     "output_type": "execute_result"
    }
   ],
   "source": [
    "dir(win32com.client)"
   ]
  },
  {
   "cell_type": "code",
   "execution_count": 9,
   "metadata": {},
   "outputs": [
    {
     "name": "stderr",
     "output_type": "stream",
     "text": [
      "Exception in Tkinter callback\n",
      "Traceback (most recent call last):\n",
      "  File \"C:\\ProgramData\\Anaconda3\\lib\\tkinter\\__init__.py\", line 1705, in __call__\n",
      "    return self.func(*args)\n",
      "  File \"<ipython-input-9-5e0efea87cda>\", line 14, in callback\n",
      "    xl.Application.Run(\"python.xlsm!Module1.callmac\")\n",
      "  File \"<COMObject <unknown>>\", line 14, in Run\n",
      "  File \"C:\\ProgramData\\Anaconda3\\lib\\site-packages\\win32com\\client\\dynamic.py\", line 287, in _ApplyTypes_\n",
      "    result = self._oleobj_.InvokeTypes(*(dispid, LCID, wFlags, retType, argTypes) + args)\n",
      "pywintypes.com_error: (-2147352567, 'Exception occurred.', (0, 'Microsoft Excel', \"Cannot run the macro 'python.xlsm!Module1.callmac'. The macro may not be available in this workbook or all macros may be disabled.\", 'xlmain11.chm', 0, -2146827284), None)\n",
      "Exception in Tkinter callback\n",
      "Traceback (most recent call last):\n",
      "  File \"C:\\ProgramData\\Anaconda3\\lib\\tkinter\\__init__.py\", line 1705, in __call__\n",
      "    return self.func(*args)\n",
      "  File \"<ipython-input-9-5e0efea87cda>\", line 31, in credit_memo\n",
      "    xl.Application.Run(\"python.xlsm!Module1.Credit_Memo\")\n",
      "  File \"<COMObject <unknown>>\", line 14, in Run\n",
      "  File \"C:\\ProgramData\\Anaconda3\\lib\\site-packages\\win32com\\client\\dynamic.py\", line 287, in _ApplyTypes_\n",
      "    result = self._oleobj_.InvokeTypes(*(dispid, LCID, wFlags, retType, argTypes) + args)\n",
      "pywintypes.com_error: (-2147352567, 'Exception occurred.', (0, 'Microsoft Excel', \"Cannot run the macro 'python.xlsm!Module1.Credit_Memo'. The macro may not be available in this workbook or all macros may be disabled.\", 'xlmain11.chm', 0, -2146827284), None)\n",
      "Exception in Tkinter callback\n",
      "Traceback (most recent call last):\n",
      "  File \"C:\\ProgramData\\Anaconda3\\lib\\tkinter\\__init__.py\", line 1705, in __call__\n",
      "    return self.func(*args)\n",
      "  File \"<ipython-input-9-5e0efea87cda>\", line 46, in Hyatt\n",
      "    xl.Application.Run(\"python.xlsm!Module1.Hyatt_macro\")\n",
      "  File \"<COMObject <unknown>>\", line 14, in Run\n",
      "  File \"C:\\ProgramData\\Anaconda3\\lib\\site-packages\\win32com\\client\\dynamic.py\", line 287, in _ApplyTypes_\n",
      "    result = self._oleobj_.InvokeTypes(*(dispid, LCID, wFlags, retType, argTypes) + args)\n",
      "pywintypes.com_error: (-2147352567, 'Exception occurred.', (0, 'Microsoft Excel', \"Cannot run the macro 'python.xlsm!Module1.Hyatt_macro'. The macro may not be available in this workbook or all macros may be disabled.\", 'xlmain11.chm', 0, -2146827284), None)\n",
      "Exception in Tkinter callback\n",
      "Traceback (most recent call last):\n",
      "  File \"C:\\ProgramData\\Anaconda3\\lib\\tkinter\\__init__.py\", line 1705, in __call__\n",
      "    return self.func(*args)\n",
      "  File \"<ipython-input-9-5e0efea87cda>\", line 31, in credit_memo\n",
      "    xl.Application.Run(\"python.xlsm!Module1.Credit_Memo\")\n",
      "  File \"<COMObject <unknown>>\", line 14, in Run\n",
      "  File \"C:\\ProgramData\\Anaconda3\\lib\\site-packages\\win32com\\client\\dynamic.py\", line 287, in _ApplyTypes_\n",
      "    result = self._oleobj_.InvokeTypes(*(dispid, LCID, wFlags, retType, argTypes) + args)\n",
      "pywintypes.com_error: (-2147352567, 'Exception occurred.', (0, 'Microsoft Excel', \"Cannot run the macro 'python.xlsm!Module1.Credit_Memo'. The macro may not be available in this workbook or all macros may be disabled.\", 'xlmain11.chm', 0, -2146827284), None)\n"
     ]
    }
   ],
   "source": [
    "from tkinter import *\n",
    "\n",
    "from PIL import ImageTk, Image \n",
    "master = Tk()\n",
    "\n",
    "def callback():\n",
    "    import os, os.path\n",
    "    import win32com.client\n",
    "#\"D:\\Users\\703183779\\OneDrive - Genpact\\PERSONAL (Autosaved).xlsb\"\n",
    "    if os.path.exists(r\"D:\\Users\\703183779\\python.xlsm\"):\n",
    "        #print(\"yes\")\n",
    "        xl=win32com.client.Dispatch(\"Excel.Application\")\n",
    "    #xl.Workbooks.Open(os.path.abspath(r\"D:\\Users\\703183779\\OneDrive - Genpact\\High Dollar.xlsm\"), ReadOnly=1)\n",
    "        xl.Application.Run(\"python.xlsm!Module1.callmac\")\n",
    "##    xl.Application.Save() # if you want to save then uncomment this line and change delete the \", ReadOnly=1\" part from the open function.\n",
    "    \n",
    "    #xl.Application.Quit()\n",
    "    #xl.Application.Quit() # Comment this out if your excel script closes\n",
    "   \n",
    "    \n",
    "    \n",
    "    #print(\"yes\")\n",
    "def credit_memo():\n",
    "    import os, os.path\n",
    "    import win32com.client\n",
    "#\"D:\\Users\\703183779\\OneDrive - Genpact\\PERSONAL (Autosaved).xlsb\"\n",
    "    if os.path.exists(r\"D:\\Users\\703183779\\python.xlsm\"):\n",
    "        #print(\"yes\")\n",
    "        xl=win32com.client.Dispatch(\"Excel.Application\")\n",
    "    #xl.Workbooks.Open(os.path.abspath(r\"D:\\Users\\703183779\\OneDrive - Genpact\\High Dollar.xlsm\"), ReadOnly=1)\n",
    "        xl.Application.Run(\"python.xlsm!Module1.Credit_Memo\")\n",
    "##    xl.Application.Save() # if you want to save then uncomment this line and change delete the \", ReadOnly=1\" part from the open function.\n",
    "    \n",
    "    #xl.Application.Quit()\n",
    "    #xl.Application.Quit() # Comment this out if your excel script closes\n",
    "    #Hyatt_macro\n",
    "\n",
    "def Hyatt():\n",
    "    import os, os.path\n",
    "    import win32com.client\n",
    "#\"D:\\Users\\703183779\\OneDrive - Genpact\\PERSONAL (Autosaved).xlsb\"\n",
    "    if os.path.exists(r\"D:\\Users\\703183779\\python.xlsm\"):\n",
    "        #print(\"yes\")\n",
    "        xl=win32com.client.Dispatch(\"Excel.Application\")\n",
    "    #xl.Workbooks.Open(os.path.abspath(r\"D:\\Users\\703183779\\OneDrive - Genpact\\High Dollar.xlsm\"), ReadOnly=1)\n",
    "        xl.Application.Run(\"python.xlsm!Module1.Hyatt_macro\")    \n",
    "    \n",
    "    \n",
    "    #print(\"yes\")\n",
    "   \n",
    "b1 = Button(master, text=\"Hello\", command=callback)\n",
    "b2 = Button(master, text=\"Credit\", command=credit_memo)\n",
    "b3 = Button(master, text=\"Ap Invoice\", command=Hyatt)\n",
    "\n",
    "b1.pack(side=LEFT,padx=10)\n",
    "b2.pack(side=LEFT,padx=10)\n",
    "b3.pack(side=LEFT,padx=10)\n",
    "\n",
    "mainloop()"
   ]
  },
  {
   "cell_type": "code",
   "execution_count": 68,
   "metadata": {},
   "outputs": [],
   "source": [
    "def callback():\n",
    "    import os, os.path\n",
    "    import win32com.client\n",
    "#\"D:\\Users\\703183779\\OneDrive - Genpact\\PERSONAL (Autosaved).xlsb\"\n",
    "    if os.path.exists(r\"D:\\Users\\703183779\\python.xlsm\"):\n",
    "        print(\"yes\")\n",
    "        xl=win32com.client.Dispatch(\"Excel.Application\")\n",
    "    #xl.Workbooks.Open(os.path.abspath(r\"D:\\Users\\703183779\\OneDrive - Genpact\\High Dollar.xlsm\"), ReadOnly=1)\n",
    "        xl.Application.Run(\"python.xlsm!Module1.callmac\")\n",
    "##    xl.Application.Save() # if you want to save then uncomment this line and change delete the \", ReadOnly=1\" part from the open function.\n",
    "    \n",
    "    #xl.Application.Quit()\n",
    "    #xl.Application.Quit() # Comment this out if your excel script closes\n",
    "   \n",
    "    \n",
    "    \n",
    "    #print(\"yes\")"
   ]
  },
  {
   "cell_type": "code",
   "execution_count": 45,
   "metadata": {},
   "outputs": [
    {
     "ename": "ModuleNotFoundError",
     "evalue": "No module named 'Tkinter'",
     "output_type": "error",
     "traceback": [
      "\u001b[1;31m---------------------------------------------------------------------------\u001b[0m",
      "\u001b[1;31mModuleNotFoundError\u001b[0m                       Traceback (most recent call last)",
      "\u001b[1;32m<ipython-input-45-b847c516c046>\u001b[0m in \u001b[0;36m<module>\u001b[1;34m\u001b[0m\n\u001b[1;32m----> 1\u001b[1;33m \u001b[1;32mfrom\u001b[0m \u001b[0mTkinter\u001b[0m \u001b[1;32mimport\u001b[0m \u001b[1;33m*\u001b[0m\u001b[1;33m\u001b[0m\u001b[1;33m\u001b[0m\u001b[0m\n\u001b[0m\u001b[0;32m      2\u001b[0m \u001b[1;32mimport\u001b[0m \u001b[0mos\u001b[0m\u001b[1;33m\u001b[0m\u001b[1;33m\u001b[0m\u001b[0m\n\u001b[0;32m      3\u001b[0m \u001b[1;33m\u001b[0m\u001b[0m\n\u001b[0;32m      4\u001b[0m \u001b[0mroot\u001b[0m \u001b[1;33m=\u001b[0m \u001b[0mTk\u001b[0m\u001b[1;33m(\u001b[0m\u001b[1;33m)\u001b[0m\u001b[1;33m\u001b[0m\u001b[1;33m\u001b[0m\u001b[0m\n\u001b[0;32m      5\u001b[0m \u001b[0mimg\u001b[0m \u001b[1;33m=\u001b[0m \u001b[0mPhotoImage\u001b[0m\u001b[1;33m(\u001b[0m\u001b[0mfile\u001b[0m\u001b[1;33m=\u001b[0m\u001b[1;34m\"logo2.png\"\u001b[0m\u001b[1;33m)\u001b[0m\u001b[1;33m\u001b[0m\u001b[1;33m\u001b[0m\u001b[0m\n",
      "\u001b[1;31mModuleNotFoundError\u001b[0m: No module named 'Tkinter'"
     ]
    }
   ],
   "source": [
    "from Tkinter import *\n",
    "import os\n",
    " \n",
    "root = Tk()\n",
    "img = PhotoImage(file=\"logo2.png\")\n",
    "panel = Label(root, image = img)\n",
    "panel.pack(side = \"bottom\", fill = \"both\", expand = \"yes\")\n",
    "root.mainloop()"
   ]
  },
  {
   "cell_type": "code",
   "execution_count": 51,
   "metadata": {},
   "outputs": [
    {
     "ename": "TclError",
     "evalue": "image \"pyimage2\" doesn't exist",
     "output_type": "error",
     "traceback": [
      "\u001b[1;31m---------------------------------------------------------------------------\u001b[0m",
      "\u001b[1;31mTclError\u001b[0m                                  Traceback (most recent call last)",
      "\u001b[1;32m<ipython-input-51-2b8b85adff97>\u001b[0m in \u001b[0;36m<module>\u001b[1;34m\u001b[0m\n\u001b[0;32m     10\u001b[0m \u001b[1;33m\u001b[0m\u001b[0m\n\u001b[0;32m     11\u001b[0m \u001b[0mphoto\u001b[0m\u001b[1;33m=\u001b[0m\u001b[0mPhotoImage\u001b[0m\u001b[1;33m(\u001b[0m\u001b[0mfile\u001b[0m\u001b[1;33m=\u001b[0m\u001b[1;34mr\"D:\\Users\\703183779\\OneDrive - Genpact\\gen.PNG\"\u001b[0m\u001b[1;33m)\u001b[0m\u001b[1;33m\u001b[0m\u001b[1;33m\u001b[0m\u001b[0m\n\u001b[1;32m---> 12\u001b[1;33m \u001b[0mb\u001b[0m \u001b[1;33m=\u001b[0m \u001b[0mButton\u001b[0m\u001b[1;33m(\u001b[0m\u001b[0mmaster\u001b[0m\u001b[1;33m,\u001b[0m\u001b[0mimage\u001b[0m\u001b[1;33m=\u001b[0m\u001b[0mphoto\u001b[0m\u001b[1;33m,\u001b[0m \u001b[0mtext\u001b[0m\u001b[1;33m=\u001b[0m\u001b[1;34m\"OK\"\u001b[0m\u001b[1;33m,\u001b[0m \u001b[0mcommand\u001b[0m\u001b[1;33m=\u001b[0m\u001b[0mcallback\u001b[0m\u001b[1;33m,\u001b[0m \u001b[0mheight\u001b[0m\u001b[1;33m=\u001b[0m\u001b[1;36m50\u001b[0m\u001b[1;33m,\u001b[0m \u001b[0mwidth\u001b[0m\u001b[1;33m=\u001b[0m\u001b[1;36m150\u001b[0m\u001b[1;33m,\u001b[0m \u001b[0mcompound\u001b[0m\u001b[1;33m=\u001b[0m\u001b[0mLEFT\u001b[0m\u001b[1;33m)\u001b[0m\u001b[1;33m\u001b[0m\u001b[1;33m\u001b[0m\u001b[0m\n\u001b[0m\u001b[0;32m     13\u001b[0m \u001b[0mb\u001b[0m\u001b[1;33m.\u001b[0m\u001b[0mpack\u001b[0m\u001b[1;33m(\u001b[0m\u001b[1;33m)\u001b[0m\u001b[1;33m\u001b[0m\u001b[1;33m\u001b[0m\u001b[0m\n\u001b[0;32m     14\u001b[0m \u001b[1;33m\u001b[0m\u001b[0m\n",
      "\u001b[1;32mC:\\ProgramData\\Anaconda3\\lib\\tkinter\\__init__.py\u001b[0m in \u001b[0;36m__init__\u001b[1;34m(self, master, cnf, **kw)\u001b[0m\n\u001b[0;32m   2367\u001b[0m             \u001b[0moverrelief\u001b[0m\u001b[1;33m,\u001b[0m \u001b[0mstate\u001b[0m\u001b[1;33m,\u001b[0m \u001b[0mwidth\u001b[0m\u001b[1;33m\u001b[0m\u001b[1;33m\u001b[0m\u001b[0m\n\u001b[0;32m   2368\u001b[0m         \"\"\"\n\u001b[1;32m-> 2369\u001b[1;33m         \u001b[0mWidget\u001b[0m\u001b[1;33m.\u001b[0m\u001b[0m__init__\u001b[0m\u001b[1;33m(\u001b[0m\u001b[0mself\u001b[0m\u001b[1;33m,\u001b[0m \u001b[0mmaster\u001b[0m\u001b[1;33m,\u001b[0m \u001b[1;34m'button'\u001b[0m\u001b[1;33m,\u001b[0m \u001b[0mcnf\u001b[0m\u001b[1;33m,\u001b[0m \u001b[0mkw\u001b[0m\u001b[1;33m)\u001b[0m\u001b[1;33m\u001b[0m\u001b[1;33m\u001b[0m\u001b[0m\n\u001b[0m\u001b[0;32m   2370\u001b[0m \u001b[1;33m\u001b[0m\u001b[0m\n\u001b[0;32m   2371\u001b[0m     \u001b[1;32mdef\u001b[0m \u001b[0mflash\u001b[0m\u001b[1;33m(\u001b[0m\u001b[0mself\u001b[0m\u001b[1;33m)\u001b[0m\u001b[1;33m:\u001b[0m\u001b[1;33m\u001b[0m\u001b[1;33m\u001b[0m\u001b[0m\n",
      "\u001b[1;32mC:\\ProgramData\\Anaconda3\\lib\\tkinter\\__init__.py\u001b[0m in \u001b[0;36m__init__\u001b[1;34m(self, master, widgetName, cnf, kw, extra)\u001b[0m\n\u001b[0;32m   2297\u001b[0m             \u001b[1;32mdel\u001b[0m \u001b[0mcnf\u001b[0m\u001b[1;33m[\u001b[0m\u001b[0mk\u001b[0m\u001b[1;33m]\u001b[0m\u001b[1;33m\u001b[0m\u001b[1;33m\u001b[0m\u001b[0m\n\u001b[0;32m   2298\u001b[0m         self.tk.call(\n\u001b[1;32m-> 2299\u001b[1;33m             (widgetName, self._w) + extra + self._options(cnf))\n\u001b[0m\u001b[0;32m   2300\u001b[0m         \u001b[1;32mfor\u001b[0m \u001b[0mk\u001b[0m\u001b[1;33m,\u001b[0m \u001b[0mv\u001b[0m \u001b[1;32min\u001b[0m \u001b[0mclasses\u001b[0m\u001b[1;33m:\u001b[0m\u001b[1;33m\u001b[0m\u001b[1;33m\u001b[0m\u001b[0m\n\u001b[0;32m   2301\u001b[0m             \u001b[0mk\u001b[0m\u001b[1;33m.\u001b[0m\u001b[0mconfigure\u001b[0m\u001b[1;33m(\u001b[0m\u001b[0mself\u001b[0m\u001b[1;33m,\u001b[0m \u001b[0mv\u001b[0m\u001b[1;33m)\u001b[0m\u001b[1;33m\u001b[0m\u001b[1;33m\u001b[0m\u001b[0m\n",
      "\u001b[1;31mTclError\u001b[0m: image \"pyimage2\" doesn't exist"
     ]
    }
   ],
   "source": [
    "from tkinter import *\n",
    " \n",
    "master = Tk()\n",
    "master.minsize(300,100)\n",
    "master.geometry(\"320x100\")\n",
    " \n",
    "def callback():\n",
    "    print (\"click!\")\n",
    " \n",
    " \n",
    "photo=PhotoImage(file=r\"D:\\Users\\703183779\\OneDrive - Genpact\\gen.PNG\")\n",
    "b = Button(master,image=photo, text=\"OK\", command=callback, height=50, width=150, compound=LEFT)\n",
    "b.pack()\n",
    " \n",
    "mainloop()"
   ]
  },
  {
   "cell_type": "code",
   "execution_count": 54,
   "metadata": {},
   "outputs": [],
   "source": [
    "from tkinter import *        \n",
    "from PIL import ImageTk, Image"
   ]
  },
  {
   "cell_type": "code",
   "execution_count": null,
   "metadata": {},
   "outputs": [],
   "source": [
    "import tkinter as tk\n",
    "from PIL import ImageTk, Image\n",
    "\n",
    "path = 'C:/xxxx/xxxx.jpg'\n",
    "\n",
    "root = tk.Tk()\n",
    "img = ImageTk.PhotoImage(Image.open(path))\n",
    "panel = tk.Label(root, image = img)\n",
    "panel.pack(side = \"bottom\", fill = \"both\", expand = \"yes\")\n",
    "root.mainloop()"
   ]
  },
  {
   "cell_type": "code",
   "execution_count": 75,
   "metadata": {},
   "outputs": [
    {
     "name": "stdout",
     "output_type": "stream",
     "text": [
      "yes\n"
     ]
    },
    {
     "ename": "com_error",
     "evalue": "(-2147352567, 'Exception occurred.', (0, 'Microsoft Excel', \"Cannot run the macro 'High Dollar.xlsm!Module4.Credit_Memo'. The macro may not be available in this workbook or all macros may be disabled.\", 'xlmain11.chm', 0, -2146827284), None)",
     "output_type": "error",
     "traceback": [
      "\u001b[1;31m---------------------------------------------------------------------------\u001b[0m",
      "\u001b[1;31mcom_error\u001b[0m                                 Traceback (most recent call last)",
      "\u001b[1;32m<ipython-input-75-9f1e4044bc75>\u001b[0m in \u001b[0;36m<module>\u001b[1;34m\u001b[0m\n\u001b[0;32m      6\u001b[0m     \u001b[0mxl\u001b[0m\u001b[1;33m=\u001b[0m\u001b[0mwin32com\u001b[0m\u001b[1;33m.\u001b[0m\u001b[0mclient\u001b[0m\u001b[1;33m.\u001b[0m\u001b[0mDispatch\u001b[0m\u001b[1;33m(\u001b[0m\u001b[1;34m\"Excel.Application\"\u001b[0m\u001b[1;33m)\u001b[0m\u001b[1;33m\u001b[0m\u001b[1;33m\u001b[0m\u001b[0m\n\u001b[0;32m      7\u001b[0m     \u001b[1;31m#xl.Workbooks.Open(os.path.abspath(r\"D:\\Users\\703183779\\OneDrive - Genpact\\High Dollar.xlsm\"), ReadOnly=1)\u001b[0m\u001b[1;33m\u001b[0m\u001b[1;33m\u001b[0m\u001b[1;33m\u001b[0m\u001b[0m\n\u001b[1;32m----> 8\u001b[1;33m     \u001b[0mxl\u001b[0m\u001b[1;33m.\u001b[0m\u001b[0mApplication\u001b[0m\u001b[1;33m.\u001b[0m\u001b[0mRun\u001b[0m\u001b[1;33m(\u001b[0m\u001b[1;34m\"High Dollar.xlsm!Module4.Credit_Memo\"\u001b[0m\u001b[1;33m)\u001b[0m\u001b[1;33m\u001b[0m\u001b[1;33m\u001b[0m\u001b[0m\n\u001b[0m\u001b[0;32m      9\u001b[0m \u001b[1;31m##    xl.Application.Save() # if you want to save then uncomment this line and change delete the \", ReadOnly=1\" part from the open function.\u001b[0m\u001b[1;33m\u001b[0m\u001b[1;33m\u001b[0m\u001b[1;33m\u001b[0m\u001b[0m\n\u001b[0;32m     10\u001b[0m \u001b[1;33m\u001b[0m\u001b[0m\n",
      "\u001b[1;32mC:\\ProgramData\\Anaconda3\\lib\\site-packages\\win32com\\client\\dynamic.py\u001b[0m in \u001b[0;36mRun\u001b[1;34m(self, Macro, Arg1, Arg2, Arg3, Arg4, Arg5, Arg6, Arg7, Arg8, Arg9, Arg10, Arg11, Arg12, Arg13, Arg14, Arg15, Arg16, Arg17, Arg18, Arg19, Arg20, Arg21, Arg22, Arg23, Arg24, Arg25, Arg26, Arg27, Arg28, Arg29, Arg30)\u001b[0m\n",
      "\u001b[1;32mC:\\ProgramData\\Anaconda3\\lib\\site-packages\\win32com\\client\\dynamic.py\u001b[0m in \u001b[0;36m_ApplyTypes_\u001b[1;34m(self, dispid, wFlags, retType, argTypes, user, resultCLSID, *args)\u001b[0m\n\u001b[0;32m    285\u001b[0m \u001b[1;33m\u001b[0m\u001b[0m\n\u001b[0;32m    286\u001b[0m         \u001b[1;32mdef\u001b[0m \u001b[0m_ApplyTypes_\u001b[0m\u001b[1;33m(\u001b[0m\u001b[0mself\u001b[0m\u001b[1;33m,\u001b[0m \u001b[0mdispid\u001b[0m\u001b[1;33m,\u001b[0m \u001b[0mwFlags\u001b[0m\u001b[1;33m,\u001b[0m \u001b[0mretType\u001b[0m\u001b[1;33m,\u001b[0m \u001b[0margTypes\u001b[0m\u001b[1;33m,\u001b[0m \u001b[0muser\u001b[0m\u001b[1;33m,\u001b[0m \u001b[0mresultCLSID\u001b[0m\u001b[1;33m,\u001b[0m \u001b[1;33m*\u001b[0m\u001b[0margs\u001b[0m\u001b[1;33m)\u001b[0m\u001b[1;33m:\u001b[0m\u001b[1;33m\u001b[0m\u001b[1;33m\u001b[0m\u001b[0m\n\u001b[1;32m--> 287\u001b[1;33m                 \u001b[0mresult\u001b[0m \u001b[1;33m=\u001b[0m \u001b[0mself\u001b[0m\u001b[1;33m.\u001b[0m\u001b[0m_oleobj_\u001b[0m\u001b[1;33m.\u001b[0m\u001b[0mInvokeTypes\u001b[0m\u001b[1;33m(\u001b[0m\u001b[1;33m*\u001b[0m\u001b[1;33m(\u001b[0m\u001b[0mdispid\u001b[0m\u001b[1;33m,\u001b[0m \u001b[0mLCID\u001b[0m\u001b[1;33m,\u001b[0m \u001b[0mwFlags\u001b[0m\u001b[1;33m,\u001b[0m \u001b[0mretType\u001b[0m\u001b[1;33m,\u001b[0m \u001b[0margTypes\u001b[0m\u001b[1;33m)\u001b[0m \u001b[1;33m+\u001b[0m \u001b[0margs\u001b[0m\u001b[1;33m)\u001b[0m\u001b[1;33m\u001b[0m\u001b[1;33m\u001b[0m\u001b[0m\n\u001b[0m\u001b[0;32m    288\u001b[0m                 \u001b[1;32mreturn\u001b[0m \u001b[0mself\u001b[0m\u001b[1;33m.\u001b[0m\u001b[0m_get_good_object_\u001b[0m\u001b[1;33m(\u001b[0m\u001b[0mresult\u001b[0m\u001b[1;33m,\u001b[0m \u001b[0muser\u001b[0m\u001b[1;33m,\u001b[0m \u001b[0mresultCLSID\u001b[0m\u001b[1;33m)\u001b[0m\u001b[1;33m\u001b[0m\u001b[1;33m\u001b[0m\u001b[0m\n\u001b[0;32m    289\u001b[0m \u001b[1;33m\u001b[0m\u001b[0m\n",
      "\u001b[1;31mcom_error\u001b[0m: (-2147352567, 'Exception occurred.', (0, 'Microsoft Excel', \"Cannot run the macro 'High Dollar.xlsm!Module4.Credit_Memo'. The macro may not be available in this workbook or all macros may be disabled.\", 'xlmain11.chm', 0, -2146827284), None)"
     ]
    }
   ],
   "source": [
    "import os, os.path\n",
    "import win32com.client\n",
    "#\"D:\\Users\\703183779\\OneDrive - Genpact\\PERSONAL (Autosaved).xlsb\"\n",
    "if os.path.exists(r\"D:\\Users\\703183779\\OneDrive - Genpact\\High Dollar.xlsm\"):\n",
    "    print(\"yes\")\n",
    "    xl=win32com.client.Dispatch(\"Excel.Application\")\n",
    "    #xl.Workbooks.Open(os.path.abspath(r\"D:\\Users\\703183779\\OneDrive - Genpact\\High Dollar.xlsm\"), ReadOnly=1)\n",
    "    xl.Application.Run(\"High Dollar.xlsm!Module4.Credit_Memo\")\n",
    "##    xl.Application.Save() # if you want to save then uncomment this line and change delete the \", ReadOnly=1\" part from the open function.\n",
    "    \n",
    "    #xl.Application.Quit()\n",
    "    #xl.Application.Quit() # Comment this out if your excel script closes\n",
    "   \n",
    "    \n",
    "    \n",
    "    print(\"yes\")"
   ]
  },
  {
   "cell_type": "code",
   "execution_count": 2,
   "metadata": {},
   "outputs": [],
   "source": [
    "import os,sys"
   ]
  },
  {
   "cell_type": "code",
   "execution_count": 2,
   "metadata": {},
   "outputs": [
    {
     "name": "stdout",
     "output_type": "stream",
     "text": [
      "['D:\\\\Users\\\\703183779', 'C:\\\\ProgramData\\\\Anaconda3\\\\python37.zip', 'C:\\\\ProgramData\\\\Anaconda3\\\\DLLs', 'C:\\\\ProgramData\\\\Anaconda3\\\\lib', 'C:\\\\ProgramData\\\\Anaconda3', '', 'C:\\\\ProgramData\\\\Anaconda3\\\\lib\\\\site-packages', 'C:\\\\ProgramData\\\\Anaconda3\\\\lib\\\\site-packages\\\\win32', 'C:\\\\ProgramData\\\\Anaconda3\\\\lib\\\\site-packages\\\\win32\\\\lib', 'C:\\\\ProgramData\\\\Anaconda3\\\\lib\\\\site-packages\\\\Pythonwin', 'C:\\\\ProgramData\\\\Anaconda3\\\\lib\\\\site-packages\\\\IPython\\\\extensions', 'D:\\\\Users\\\\703183779\\\\.ipython']\n"
     ]
    }
   ],
   "source": [
    "print(sys.path)"
   ]
  },
  {
   "cell_type": "code",
   "execution_count": 1,
   "metadata": {},
   "outputs": [
    {
     "name": "stdout",
     "output_type": "stream",
     "text": [
      "['D:\\\\Users\\\\703183779', 'C:\\\\ProgramData\\\\Anaconda3\\\\python37.zip', 'C:\\\\ProgramData\\\\Anaconda3\\\\DLLs', 'C:\\\\ProgramData\\\\Anaconda3\\\\lib', 'C:\\\\ProgramData\\\\Anaconda3', '', 'C:\\\\ProgramData\\\\Anaconda3\\\\lib\\\\site-packages', 'C:\\\\ProgramData\\\\Anaconda3\\\\lib\\\\site-packages\\\\win32', 'C:\\\\ProgramData\\\\Anaconda3\\\\lib\\\\site-packages\\\\win32\\\\lib', 'C:\\\\ProgramData\\\\Anaconda3\\\\lib\\\\site-packages\\\\Pythonwin', 'C:\\\\ProgramData\\\\Anaconda3\\\\lib\\\\site-packages\\\\IPython\\\\extensions', 'D:\\\\Users\\\\703183779\\\\.ipython', 'D:\\\\Users\\\\703183779\\\\Dummy.xlsm']\n"
     ]
    }
   ],
   "source": [
    "import sys\n",
    "sys.path\n",
    "sys.path.append(r\"D:\\Users\\703183779\\Dummy.xlsm\")\n",
    "print(sys.path)"
   ]
  },
  {
   "cell_type": "code",
   "execution_count": 20,
   "metadata": {},
   "outputs": [
    {
     "name": "stdout",
     "output_type": "stream",
     "text": [
      "yes\n",
      "yes\n"
     ]
    }
   ],
   "source": [
    "import os, os.path\n",
    "import win32com.client\n",
    "#\"D:\\Users\\703183779\\OneDrive - Genpact\\PERSONAL (Autosaved).xlsb\"\n",
    "if os.path.exists(r\"D:\\Users\\703183779\\Dummy.xlsm\"):\n",
    "    print(\"yes\")\n",
    "    xl=win32com.client.Dispatch(\"Excel.Application\")\n",
    "    #xl.Workbooks.Open(os.path.abspath(r\"D:\\Users\\703183779\\OneDrive - Genpact\\High Dollar.xlsm\"), ReadOnly=1)\n",
    "    xl.Application.Run(\"Dummy.xlsm!Module1.macro\")\n",
    "##    xl.Application.Save() # if you want to save then uncomment this line and change delete the \", ReadOnly=1\" part from the open function.\n",
    "    \n",
    "    #xl.Application.Quit()\n",
    "    #xl.Application.Quit() # Comment this out if your excel script closes\n",
    "   \n",
    "    \n",
    "    \n",
    "    print(\"yes\")"
   ]
  },
  {
   "cell_type": "code",
   "execution_count": 14,
   "metadata": {},
   "outputs": [
    {
     "name": "stdout",
     "output_type": "stream",
     "text": [
      "yes\n",
      "yes\n",
      "yes\n",
      "yes\n"
     ]
    }
   ],
   "source": [
    "from tkinter import *\n",
    "from PIL import ImageTk, Image \n",
    "master = Tk()\n",
    "master.title('Python Script')\n",
    "import os\n",
    "# import tkinter as tk\n",
    "from tkinter import filedialog\n",
    "import win32com.client\n",
    "\n",
    "#wb = xl.workbooks.open(SourceFile)\n",
    "def UploadAction(event=None):\n",
    "    filename = filedialog.askopenfilename()\n",
    "    xl = win32com.client.DispatchEx(\"Excel.Application\")\n",
    "    #print('Selected:', filename)\n",
    "    #wb = xl.workbooks.open(str(filename))\n",
    "    os.startfile(filename)\n",
    "    \n",
    "\n",
    "def callback():\n",
    "    import os, os.path\n",
    "    import win32com.client\n",
    "#\"D:\\Users\\703183779\\OneDrive - Genpact\\PERSONAL (Autosaved).xlsb\"\n",
    "    if os.path.exists(r\"D:\\Users\\703183779\\Dummy.xlsm\"):\n",
    "        print(\"yes\")\n",
    "        xl=win32com.client.Dispatch(\"Excel.Application\")\n",
    "    #xl.Workbooks.Open(os.path.abspath(r\"D:\\Users\\703183779\\OneDrive - Genpact\\High Dollar.xlsm\"), ReadOnly=1)\n",
    "        xl.Application.Run(\"Dummy.xlsm!Module1.macro\")\n",
    "##    xl.Application.Save() # if you want to save then uncomment this line and change delete the \", ReadOnly=1\" part from the open function.\n",
    "    \n",
    "    #xl.Application.Quit()\n",
    "    #xl.Application.Quit() # Comment this out if your excel script closes\n",
    "   \n",
    "    \n",
    "    \n",
    "        print(\"yes\")\n",
    "\n",
    "def erase():\n",
    "    import os, os.path\n",
    "    import win32com.client\n",
    "#\"D:\\Users\\703183779\\OneDrive - Genpact\\PERSONAL (Autosaved).xlsb\"\n",
    "    if os.path.exists(r\"D:\\Users\\703183779\\Dummy.xlsm\"):\n",
    "        print(\"yes\")\n",
    "        xl=win32com.client.Dispatch(\"Excel.Application\")\n",
    "    #xl.Workbooks.Open(os.path.abspath(r\"D:\\Users\\703183779\\OneDrive - Genpact\\High Dollar.xlsm\"), ReadOnly=1)\n",
    "        xl.Application.Run(\"Dummy.xlsm!Module2.era\")\n",
    "##    xl.Application.Save() # if you want to save then uncomment this line and change delete the \", ReadOnly=1\" part from the open function.\n",
    "    \n",
    "    #xl.Application.Quit()\n",
    "    #xl.Application.Quit() # Comment this out if your excel script closes\n",
    "   \n",
    "    \n",
    "    \n",
    "        print(\"yes\")\n",
    "\n",
    "        \n",
    "def credit():\n",
    "    import os, os.path\n",
    "    import win32com.client\n",
    "#\"D:\\Users\\703183779\\OneDrive - Genpact\\PERSONAL (Autosaved).xlsb\"\n",
    "    if os.path.exists(r\"D:\\Users\\703183779\\Dummy.xlsm\"):\n",
    "        print(\"yes\")\n",
    "        xl=win32com.client.Dispatch(\"Excel.Application\")\n",
    "    #xl.Workbooks.Open(os.path.abspath(r\"D:\\Users\\703183779\\OneDrive - Genpact\\High Dollar.xlsm\"), ReadOnly=1)\n",
    "        xl.Application.Run(\"Dummy.xlsm!Module3.Credit\")\n",
    "##    xl.Application.Save() # if you want to save then uncomment this line and change delete the \", ReadOnly=1\" part from the open function.\n",
    "    \n",
    "    #xl.Application.Quit()\n",
    "    #xl.Application.Quit() # Comment this out if your excel script closes\n",
    "   \n",
    "    \n",
    "    \n",
    "        print(\"yes\")\n",
    "\n",
    "          \n",
    "def BSSI():\n",
    "    import os, os.path\n",
    "    import win32com.client\n",
    "#\"D:\\Users\\703183779\\OneDrive - Genpact\\PERSONAL (Autosaved).xlsb\"\n",
    "    if os.path.exists(r\"D:\\Users\\703183779\\Dummy.xlsm\"):\n",
    "        print(\"yes\")\n",
    "        xl=win32com.client.Dispatch(\"Excel.Application\")\n",
    "    #xl.Workbooks.Open(os.path.abspath(r\"D:\\Users\\703183779\\OneDrive - Genpact\\High Dollar.xlsm\"), ReadOnly=1)\n",
    "        xl.Application.Run(\"Dummy.xlsm!Module5.BSS\")\n",
    "##    xl.Application.Save() # if you want to save then uncomment this line and change delete the \", ReadOnly=1\" part from the open function.\n",
    "    \n",
    "    #xl.Application.Quit()\n",
    "    #xl.Application.Quit() # Comment this out if your excel script closes\n",
    "   \n",
    "    \n",
    "    \n",
    "        print(\"yes\")\n",
    "\n",
    "def PivotAmount():\n",
    "    import os, os.path\n",
    "    import win32com.client\n",
    "#\"D:\\Users\\703183779\\OneDrive - Genpact\\PERSONAL (Autosaved).xlsb\"\n",
    "    if os.path.exists(r\"D:\\Users\\703183779\\Dummy.xlsm\"):\n",
    "        print(\"yes\")\n",
    "        xl=win32com.client.Dispatch(\"Excel.Application\")\n",
    "    #xl.Workbooks.Open(os.path.abspath(r\"D:\\Users\\703183779\\OneDrive - Genpact\\High Dollar.xlsm\"), ReadOnly=1)\n",
    "        xl.Application.Run(\"Dummy.xlsm!Module6.amount_check\")\n",
    "##    xl.Application.Save() # if you want to save then uncomment this line and change delete the \", ReadOnly=1\" part from the open function.\n",
    "    \n",
    "    #xl.Application.Quit()\n",
    "    #xl.Application.Quit() # Comment this out if your excel script closes\n",
    "   \n",
    "    \n",
    "    \n",
    "        print(\"yes\")        \n",
    "\n",
    "def Ap():\n",
    "    import os, os.path\n",
    "    import win32com.client\n",
    "#\"D:\\Users\\703183779\\OneDrive - Genpact\\PERSONAL (Autosaved).xlsb\"\n",
    "    if os.path.exists(r\"D:\\Users\\703183779\\Dummy.xlsm\"):\n",
    "        print(\"yes\")\n",
    "        xl=win32com.client.Dispatch(\"Excel.Application\")\n",
    "    #xl.Workbooks.Open(os.path.abspath(r\"D:\\Users\\703183779\\OneDrive - Genpact\\High Dollar.xlsm\"), ReadOnly=1)\n",
    "        xl.Application.Run(\"Dummy.xlsm!Module4.okok\")\n",
    "##    xl.Application.Save() # if you want to save then uncomment this line and change delete the \", ReadOnly=1\" part from the open function.\n",
    "    \n",
    "    #xl.Application.Quit()\n",
    "    #xl.Application.Quit() # Comment this out if your excel script closes\n",
    "   \n",
    "    \n",
    "    \n",
    "        print(\"yes\")    \n",
    "    \n",
    "# def callback():\n",
    "#     import os, os.path\n",
    "#     import win32com.client\n",
    "# #\"D:\\Users\\703183779\\OneDrive - Genpact\\PERSONAL (Autosaved).xlsb\"\n",
    "#     if os.path.exists(r\"D:\\Users\\703183779\\Dummy.xlsm\"):\n",
    "#         #print(\"yes\")\n",
    "#         xl=win32com.client.Dispatch(\"Excel.Application\")\n",
    "#     #xl.Workbooks.Open(os.path.abspath(r\"D:\\Users\\703183779\\OneDrive - Genpact\\High Dollar.xlsm\"), ReadOnly=1)\n",
    "#         xl.Application.Run(\"Dummy.xlsm!Module1.macro\")\n",
    "##    xl.Application.Save() # if you want to save then uncomment this line and change delete the \", ReadOnly=1\" part from the open function.\n",
    "    \n",
    "    #xl.Application.Quit()\n",
    "    #xl.Application.Quit() # Comment this out if your excel script closes\n",
    "   \n",
    "    \n",
    "    \n",
    "    #print(\"yes\")\n",
    "# def credit_memo():\n",
    "#     import os, os.path\n",
    "#     import win32com.client\n",
    "# #\"D:\\Users\\703183779\\OneDrive - Genpact\\PERSONAL (Autosaved).xlsb\"\n",
    "#     if os.path.exists(r\"D:\\Users\\703183779\\Dummy.xlsm\"):\n",
    "#         #print(\"yes\")\n",
    "#         xl=win32com.client.Dispatch(\"Excel.Application\")\n",
    "#     #xl.Workbooks.Open(os.path.abspath(r\"D:\\Users\\703183779\\OneDrive - Genpact\\High Dollar.xlsm\"), ReadOnly=1)\n",
    "#         xl.Application.Run(\"Dummy.xlsm!Module1.Credit_Memo\")\n",
    "##    xl.Application.Save() # if you want to save then uncomment this line and change delete the \", ReadOnly=1\" part from the open function.\n",
    "    \n",
    "    #xl.Application.Quit()\n",
    "    #xl.Application.Quit() # Comment this out if your excel script closes\n",
    "    #Hyatt_macro\n",
    "\n",
    "# def Hyatt():\n",
    "#     import os, os.path\n",
    "#     import win32com.client\n",
    "# #\"D:\\Users\\703183779\\OneDrive - Genpact\\PERSONAL (Autosaved).xlsb\"\n",
    "#     if os.path.exists(r\"D:\\Users\\703183779\\python.xlsm\"):\n",
    "#         #print(\"yes\")\n",
    "#         xl=win32com.client.Dispatch(\"Excel.Application\")\n",
    "#     #xl.Workbooks.Open(os.path.abspath(r\"D:\\Users\\703183779\\OneDrive - Genpact\\High Dollar.xlsm\"), ReadOnly=1)\n",
    "#         xl.Application.Run(\"python.xlsm!Module1.Hyatt_macro\")    \n",
    "    \n",
    "    \n",
    "#     #print(\"yes\")\n",
    "   \n",
    "b1 = Button(master, text=\"Hello\", command=callback)\n",
    "b2 = Button(master, text=\"Erase\", command=erase)\n",
    "b3 = Button(master, text=\"Credit Memo\", command=credit)\n",
    "b4 = Button(master, text=\"Ap Invoice\", command=Ap)\n",
    "b5 = Button(master, text=\"Upload\", command=UploadAction)\n",
    "b6 = Button(master, text=\"BSS ISCALA\", command=BSSI)\n",
    "b7 = Button(master, text=\"Amount Check\", command=PivotAmount)\n",
    "\n",
    "\n",
    "\n",
    "# b1.pack(side=LEFT,padx=10)\n",
    "# b2.pack(side=LEFT,padx=10)\n",
    "# b3.pack(side=LEFT,padx=10)\n",
    "# b4.pack(side=LEFT,padx=10)\n",
    "# b5.pack(side=BOTTOM,padx=10)\n",
    "\n",
    "b5.grid(row=0, column=20,columnspan=10)\n",
    "#b2.grid(row=1,column=1,padx=2,pady=5,sticky='WE',columnspan=1)\n",
    "#b3.grid(row=1,column=10,padx=2,sticky='EW',columnspan=1)\n",
    "#b4.grid(row=1,column=15,padx=2,sticky='EW',columnspan=1)\n",
    "#b1.grid(row=1,column=20,padx=2,sticky='EW',columnspan=1)\n",
    "# b3.pack(side=LEFT,padx=10)\n",
    "# b4.pack(side=LEFT,padx=10)\n",
    "# b5.pack(side=BOTTOM,padx=10)\n",
    "b6.grid(row=1,column=20,padx=2,sticky='EW',columnspan=1)\n",
    "b7.grid(row=1,column=25,padx=2,sticky='W',columnspan=1)\n",
    "\n",
    "mainloop()"
   ]
  },
  {
   "cell_type": "code",
   "execution_count": 3,
   "metadata": {},
   "outputs": [
    {
     "ename": "ModuleNotFoundError",
     "evalue": "No module named 'pyglet'",
     "output_type": "error",
     "traceback": [
      "\u001b[1;31m---------------------------------------------------------------------------\u001b[0m",
      "\u001b[1;31mModuleNotFoundError\u001b[0m                       Traceback (most recent call last)",
      "\u001b[1;32m<ipython-input-3-f061a8721095>\u001b[0m in \u001b[0;36m<module>\u001b[1;34m\u001b[0m\n\u001b[1;32m----> 1\u001b[1;33m \u001b[1;32mimport\u001b[0m \u001b[0mpyglet\u001b[0m\u001b[1;33m\u001b[0m\u001b[1;33m\u001b[0m\u001b[0m\n\u001b[0m",
      "\u001b[1;31mModuleNotFoundError\u001b[0m: No module named 'pyglet'"
     ]
    }
   ],
   "source": [
    "import pyglet"
   ]
  },
  {
   "cell_type": "code",
   "execution_count": 5,
   "metadata": {},
   "outputs": [],
   "source": [
    "import tkinter\n",
    "tkinter._test()"
   ]
  },
  {
   "cell_type": "code",
   "execution_count": 10,
   "metadata": {},
   "outputs": [],
   "source": [
    "import tkinter as tk\n",
    "root = tk.Tk()\n",
    "#root.mainloop()\n",
    "mainloop()"
   ]
  },
  {
   "cell_type": "code",
   "execution_count": 8,
   "metadata": {},
   "outputs": [
    {
     "name": "stderr",
     "output_type": "stream",
     "text": [
      "Exception in Tkinter callback\n",
      "Traceback (most recent call last):\n",
      "  File \"C:\\ProgramData\\Anaconda3\\lib\\tkinter\\__init__.py\", line 1705, in __call__\n",
      "    return self.func(*args)\n",
      "  File \"<ipython-input-8-9a63e7f525fa>\", line 7, in browsefunc\n",
      "    filename = filedialog.askopenfilename()\n",
      "NameError: name 'filedialog' is not defined\n"
     ]
    }
   ],
   "source": [
    "import tkinter\n",
    "\n",
    "from tkinter import *\n",
    "root = Tk()\n",
    "\n",
    "def browsefunc():\n",
    "    filename = filedialog.askopenfilename()\n",
    "    pathlabel.config(text=filename)\n",
    "\n",
    "browsebutton = Button(root, text=\"Browse\", command=browsefunc)\n",
    "browsebutton.pack()\n",
    "\n",
    "pathlabel = Label(root)\n",
    "pathlabel.pack()\n",
    "mainloop()"
   ]
  },
  {
   "cell_type": "code",
   "execution_count": 9,
   "metadata": {},
   "outputs": [],
   "source": [
    "from tkinter import filedialog"
   ]
  },
  {
   "cell_type": "code",
   "execution_count": 8,
   "metadata": {},
   "outputs": [
    {
     "name": "stdout",
     "output_type": "stream",
     "text": [
      "Selected: D:/Users/703183779/OneDrive - Genpact/High Dollar.xlsm\n"
     ]
    }
   ],
   "source": [
    "import tkinter as tk\n",
    "from tkinter import filedialog\n",
    "import win32com.client\n",
    "\n",
    "#wb = xl.workbooks.open(SourceFile)\n",
    "def UploadAction(event=None):\n",
    "    filename = filedialog.askopenfilename()\n",
    "    xl = win32com.client.DispatchEx(\"Excel.Application\")\n",
    "    print('Selected:', filename)\n",
    "    #wb = xl.workbooks.open(str(filename))\n",
    "    os.startfile(filename)\n",
    "    \n",
    "    \n",
    "    \n",
    "\n",
    "root = tk.Tk()\n",
    "button = tk.Button(root, text='Open', command=UploadAction)\n",
    "button.pack()\n",
    "\n",
    "root.mainloop()"
   ]
  },
  {
   "cell_type": "code",
   "execution_count": 6,
   "metadata": {},
   "outputs": [
    {
     "data": {
      "text/plain": [
       "<_io.TextIOWrapper name='D:/Users/703183779/OneDrive - Genpact/Rent Reciept 703183779 Akash Soni.pdf' mode='r' encoding='cp1252'>"
      ]
     },
     "execution_count": 6,
     "metadata": {},
     "output_type": "execute_result"
    }
   ],
   "source": [
    "open(\"D:/Users/703183779/OneDrive - Genpact/Rent Reciept 703183779 Akash Soni.pdf\")"
   ]
  },
  {
   "cell_type": "code",
   "execution_count": 7,
   "metadata": {},
   "outputs": [],
   "source": [
    "from pathlib import Path"
   ]
  },
  {
   "cell_type": "code",
   "execution_count": 10,
   "metadata": {},
   "outputs": [
    {
     "ename": "NameError",
     "evalue": "name 'filename' is not defined",
     "output_type": "error",
     "traceback": [
      "\u001b[1;31m---------------------------------------------------------------------------\u001b[0m",
      "\u001b[1;31mNameError\u001b[0m                                 Traceback (most recent call last)",
      "\u001b[1;32m<ipython-input-10-0ee53525f0e4>\u001b[0m in \u001b[0;36m<module>\u001b[1;34m\u001b[0m\n\u001b[1;32m----> 1\u001b[1;33m \u001b[0mfilename\u001b[0m\u001b[1;33m\u001b[0m\u001b[1;33m\u001b[0m\u001b[0m\n\u001b[0m",
      "\u001b[1;31mNameError\u001b[0m: name 'filename' is not defined"
     ]
    }
   ],
   "source": [
    "filename"
   ]
  },
  {
   "cell_type": "code",
   "execution_count": 1,
   "metadata": {},
   "outputs": [
    {
     "ename": "NameError",
     "evalue": "name 'mainloop' is not defined",
     "output_type": "error",
     "traceback": [
      "\u001b[1;31m---------------------------------------------------------------------------\u001b[0m",
      "\u001b[1;31mNameError\u001b[0m                                 Traceback (most recent call last)",
      "\u001b[1;32m<ipython-input-1-a6a3ffae3977>\u001b[0m in \u001b[0;36m<module>\u001b[1;34m\u001b[0m\n\u001b[0;32m      5\u001b[0m \u001b[1;33m\u001b[0m\u001b[0m\n\u001b[0;32m      6\u001b[0m \u001b[0mos\u001b[0m\u001b[1;33m.\u001b[0m\u001b[0msystem\u001b[0m\u001b[1;33m(\u001b[0m\u001b[0mfilename\u001b[0m\u001b[1;33m)\u001b[0m\u001b[1;33m\u001b[0m\u001b[1;33m\u001b[0m\u001b[0m\n\u001b[1;32m----> 7\u001b[1;33m \u001b[0mmainloop\u001b[0m\u001b[1;33m(\u001b[0m\u001b[1;33m)\u001b[0m\u001b[1;33m\u001b[0m\u001b[1;33m\u001b[0m\u001b[0m\n\u001b[0m",
      "\u001b[1;31mNameError\u001b[0m: name 'mainloop' is not defined"
     ]
    }
   ],
   "source": [
    "from tkinter import filedialog\n",
    "import os\n",
    "\n",
    "filename = filedialog.askopenfilename(initialdir=\"C:/\", title=\"select file\")\n",
    "\n",
    "os.system(filename)\n",
    "mainloop()"
   ]
  },
  {
   "cell_type": "code",
   "execution_count": null,
   "metadata": {},
   "outputs": [],
   "source": [
    "import win32com.client\n",
    "xl = win32com.client.DispatchEx(\"Excel.Application\")\n",
    "wb = xl.workbooks.open('D:/Users/703183779/OneDrive - Genpact/High Dollar.xlsm')  # Open a workbook\n",
    "\n",
    "# Your code to modify the excel file.\n",
    "# wb.RefreshAll()\n",
    "\n",
    "# # Call wb.Save() to save your changes.\n",
    "# wb.Save()\n",
    "# xl.Quit()"
   ]
  },
  {
   "cell_type": "code",
   "execution_count": 4,
   "metadata": {},
   "outputs": [
    {
     "ename": "SyntaxError",
     "evalue": "invalid syntax (<ipython-input-4-2d59a896c498>, line 4)",
     "output_type": "error",
     "traceback": [
      "\u001b[1;36m  File \u001b[1;32m\"<ipython-input-4-2d59a896c498>\"\u001b[1;36m, line \u001b[1;32m4\u001b[0m\n\u001b[1;33m    file = D:/Users/703183779/OneDrive - Genpact/Rent Reciept 703183779 Akash Soni.pdf\u001b[0m\n\u001b[1;37m            ^\u001b[0m\n\u001b[1;31mSyntaxError\u001b[0m\u001b[1;31m:\u001b[0m invalid syntax\n"
     ]
    }
   ],
   "source": [
    "\n",
    "\n",
    "import os\n",
    "file = D:/Users/703183779/OneDrive - Genpact/Rent Reciept 703183779 Akash Soni.pdf\n",
    "\n",
    "os.startfile(file)"
   ]
  },
  {
   "cell_type": "code",
   "execution_count": 7,
   "metadata": {},
   "outputs": [],
   "source": [
    "os.startfile(file)"
   ]
  },
  {
   "cell_type": "code",
   "execution_count": 21,
   "metadata": {},
   "outputs": [
    {
     "name": "stdout",
     "output_type": "stream",
     "text": [
      "Enter a number2\n",
      "\n",
      " Entered number is 2 \n"
     ]
    }
   ],
   "source": [
    "while(True):\n",
    "    try:\n",
    "        userdata = input(\"Enter a number\")\n",
    "        usernum = int(userdata)\n",
    "        print(\"\\n\",\"Entered number is {} \".format(usernum))\n",
    "    except ValueError:\n",
    "        print(\"Not a number! Try again\")\n",
    "    else:\n",
    "        break\n",
    "    \n",
    "        "
   ]
  },
  {
   "cell_type": "code",
   "execution_count": 12,
   "metadata": {},
   "outputs": [
    {
     "name": "stdout",
     "output_type": "stream",
     "text": [
      "2 3\n"
     ]
    }
   ],
   "source": [
    "a,b = (input().split())"
   ]
  },
  {
   "cell_type": "code",
   "execution_count": 13,
   "metadata": {},
   "outputs": [
    {
     "data": {
      "text/plain": [
       "'2'"
      ]
     },
     "execution_count": 13,
     "metadata": {},
     "output_type": "execute_result"
    }
   ],
   "source": [
    "a\n"
   ]
  },
  {
   "cell_type": "code",
   "execution_count": 14,
   "metadata": {},
   "outputs": [
    {
     "data": {
      "text/plain": [
       "'3'"
      ]
     },
     "execution_count": 14,
     "metadata": {},
     "output_type": "execute_result"
    }
   ],
   "source": [
    "b"
   ]
  },
  {
   "cell_type": "code",
   "execution_count": 15,
   "metadata": {},
   "outputs": [
    {
     "name": "stdout",
     "output_type": "stream",
     "text": [
      "2-3\n"
     ]
    }
   ],
   "source": [
    "print(a,b,sep=\"-\")"
   ]
  },
  {
   "cell_type": "code",
   "execution_count": 16,
   "metadata": {},
   "outputs": [
    {
     "name": "stdout",
     "output_type": "stream",
     "text": [
      "2 3-"
     ]
    }
   ],
   "source": [
    "print(a,b,end=\"-\")"
   ]
  },
  {
   "cell_type": "code",
   "execution_count": 17,
   "metadata": {},
   "outputs": [
    {
     "name": "stdout",
     "output_type": "stream",
     "text": [
      "My name is Akash Soni\n"
     ]
    }
   ],
   "source": [
    "name = \"Akash\"\n",
    "surname = \"Soni\"\n",
    "\n",
    "print(\"My name is {} {}\".format(name,surname)\n",
    "     )"
   ]
  },
  {
   "cell_type": "code",
   "execution_count": 18,
   "metadata": {},
   "outputs": [
    {
     "data": {
      "text/plain": [
       "'value :  4'"
      ]
     },
     "execution_count": 18,
     "metadata": {},
     "output_type": "execute_result"
    }
   ],
   "source": [
    "\"value :{0:3d}\".format(4)"
   ]
  },
  {
   "cell_type": "code",
   "execution_count": 19,
   "metadata": {},
   "outputs": [
    {
     "data": {
      "text/plain": [
       "'Value : 47.25'"
      ]
     },
     "execution_count": 19,
     "metadata": {},
     "output_type": "execute_result"
    }
   ],
   "source": [
    "\"Value :{0:6.2f}\".format(47.253)"
   ]
  },
  {
   "cell_type": "code",
   "execution_count": null,
   "metadata": {},
   "outputs": [],
   "source": []
  }
 ],
 "metadata": {
  "kernelspec": {
   "display_name": "Python 3",
   "language": "python",
   "name": "python3"
  },
  "language_info": {
   "codemirror_mode": {
    "name": "ipython",
    "version": 3
   },
   "file_extension": ".py",
   "mimetype": "text/x-python",
   "name": "python",
   "nbconvert_exporter": "python",
   "pygments_lexer": "ipython3",
   "version": "3.7.1"
  }
 },
 "nbformat": 4,
 "nbformat_minor": 2
}
